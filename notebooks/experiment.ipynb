{
 "cells": [
  {
   "cell_type": "markdown",
   "source": [
    "# SingGlow Report"
   ],
   "metadata": {}
  },
  {
   "cell_type": "code",
   "execution_count": 4,
   "source": [
    "from common_definitions import *\r\n",
    "from pipeline import *\r\n",
    "import tensorflow as tf\r\n",
    "import matplotlib.pyplot as plt\r\n",
    "import librosa\r\n",
    "import librosa.display\r\n",
    "import soundfile as sf\r\n",
    "import IPython.display as ipd\r\n",
    "from tqdm.notebook import tqdm\r\n",
    "import pickle\r\n",
    "from data_loarder import *\r\n",
    "\r\n",
    "tfrecord_dir = r'D:\\PlayGround\\research\\SinGlow\\runs'\r\n",
    "os.chdir(tfrecord_dir)\r\n",
    "BATCH_SIZE = 64"
   ],
   "outputs": [],
   "metadata": {}
  },
  {
   "cell_type": "code",
   "execution_count": 5,
   "source": [
    "from tensorboard.backend.event_processing import event_accumulator\r\n",
    "import matplotlib.pyplot as plt\r\n",
    " \r\n",
    "def read_tensorboard_data(tensorboard_path, val_name):\r\n",
    "    \"\"\"读取tensorboard数据，\r\n",
    "    tensorboard_path是tensorboard数据地址val_name是需要读取的变量名称\"\"\"\r\n",
    "    ea = event_accumulator.EventAccumulator(tensorboard_path)\r\n",
    "    ea.Reload()\r\n",
    "    print(ea.scalars.Keys())\r\n",
    "    # val = ea.scalars.Items(val_name)\r\n",
    "    # return val\r\n",
    " \r\n",
    "def draw_plt(val, val_name):\r\n",
    "    \"\"\"将数据绘制成曲线图，val是数据，val_name是变量名称\"\"\"\r\n",
    "    plt.figure()\r\n",
    "    plt.plot([i.step for i in val], [j.value for j in val], label=val_name)\r\n",
    "    \"\"\"横坐标是step，迭代次数\r\n",
    "    纵坐标是变量值\"\"\"\r\n",
    "    plt.xlabel('step')\r\n",
    "    plt.ylabel(val_name)\r\n",
    "    plt.show()\r\n",
    "\r\n",
    "tensorboard_path = r'D:\\PlayGround\\research\\SinGlow\\logs\\GLOW20211004-092300\\train\\events.out.tfevents.1633310580.DESKTOP-D966FKK.13836.0.v2'\r\n",
    "val_name = 'nll'\r\n",
    "val = read_tensorboard_data(tensorboard_path, val_name)\r\n",
    "# draw_plt(val, val_name)"
   ],
   "outputs": [
    {
     "output_type": "stream",
     "name": "stdout",
     "text": [
      "[]\n"
     ]
    }
   ],
   "metadata": {}
  },
  {
   "cell_type": "markdown",
   "source": [
    "## Spectrum comparison"
   ],
   "metadata": {}
  },
  {
   "cell_type": "code",
   "execution_count": 6,
   "source": [
    "fig, (ax1,ax2) = plt.subplots(nrows=1, ncols=2, sharey=False)\n",
    "fig.set_size_inches(12,4)\n",
    "\n",
    "# read from mp3 files\n",
    "y, sr = librosa.load(r'D:\\PlayGround\\research\\SongDatabase\\TestSongs\\virtual_align_short.mp3')\n",
    "\n",
    "# get stft\n",
    "hop_length = 1024\n",
    "D = librosa.amplitude_to_db(np.abs(librosa.stft(y[:len(y)//45], hop_length=hop_length)),\n",
    "                            ref=np.max)\n",
    "\n",
    "# plot the spectrum\n",
    "img = librosa.display.specshow(D, y_axis='log', sr=sr, hop_length=hop_length,\n",
    "                         x_axis='time', ax=ax1)\n",
    "ax1.set(title='Log-frequency power spectrogram\\nfor origin wave')\n",
    "ax1.label_outer()\n",
    "fig.colorbar(img, ax=ax1, format=\"%+2.f dB\")\n",
    "\n",
    "ax1.add_patch(plt.Rectangle((0.37,2**7.5), 0.15, 2**8, color=\"white\", fill=False, linewidth=2))\n",
    "ax1.text(0.37,2**9.1, \"label 1\", bbox={'facecolor':'white', 'alpha':0.5})\n",
    "ax1.add_patch(plt.Rectangle((0.74,2**7.5), 0.15, 2**8, color=\"white\", fill=False, linewidth=2))\n",
    "ax1.text(0.74,2**9.1, \"label 2\", bbox={'facecolor':'white', 'alpha':0.5})\n",
    "\n",
    "# read from mp3 files\n",
    "y, sr = librosa.load(r'D:\\PlayGround\\research\\SinGlow\\runs\\result_virtual_align_short.wav')\n",
    "\n",
    "# get stft\n",
    "hop_length = 1024\n",
    "D = librosa.amplitude_to_db(np.abs(librosa.stft(y[:len(y)//45], hop_length=hop_length)),\n",
    "                            ref=np.max)\n",
    "\n",
    "# plot the spectrum\n",
    "img = librosa.display.specshow(D, y_axis='log', sr=sr, hop_length=hop_length,\n",
    "                         x_axis='time', ax=ax2)\n",
    "ax2.set(title='Log-frequency power spectrogram\\nfor result wav')\n",
    "ax2.label_outer()\n",
    "fig.colorbar(img, ax=ax2, format=\"%+2.f dB\")\n",
    "\n",
    "ax2.add_patch(plt.Rectangle((0.37,2**7.5), 0.15, 2**8, color=\"white\", fill=False, linewidth=2))\n",
    "ax2.text(0.37,2**9.1, \"label 1\", bbox={'facecolor':'white', 'alpha':0.5})\n",
    "ax2.add_patch(plt.Rectangle((0.74,2**7.5), 0.15, 2**8, color=\"white\", fill=False, linewidth=2))\n",
    "ax2.text(0.74,2**9.1, \"label 2\", bbox={'facecolor':'white', 'alpha':0.5})\n",
    "\n",
    "plt.savefig('the_spectrum.png')"
   ],
   "outputs": [],
   "metadata": {}
  },
  {
   "cell_type": "code",
   "execution_count": null,
   "source": [],
   "outputs": [],
   "metadata": {}
  }
 ],
 "metadata": {
  "kernelspec": {
   "name": "python3",
   "display_name": "Python 3.8.11 64-bit ('DeepLearningTF2': conda)"
  },
  "language_info": {
   "codemirror_mode": {
    "name": "ipython",
    "version": 3
   },
   "file_extension": ".py",
   "mimetype": "text/x-python",
   "name": "python",
   "nbconvert_exporter": "python",
   "pygments_lexer": "ipython3",
   "version": "3.8.11"
  },
  "interpreter": {
   "hash": "e6798ffb6e0df1c0d900762d231294d921ebc2c661002168db12b8cad6a55025"
  }
 },
 "nbformat": 4,
 "nbformat_minor": 5
}